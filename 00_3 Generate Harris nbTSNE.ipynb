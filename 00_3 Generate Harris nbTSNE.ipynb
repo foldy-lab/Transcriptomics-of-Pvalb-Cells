{
 "cells": [
  {
   "cell_type": "raw",
   "metadata": {},
   "source": [
    "A Jupyter Notebook to match the cell labels of Harris et al's nbt-SNE data to the cell labels of our study"
   ]
  },
  {
   "cell_type": "code",
   "execution_count": 1,
   "metadata": {},
   "outputs": [],
   "source": [
    "import numpy as np\n",
    "import pandas as pd\n",
    "from sklearn.decomposition import PCA"
   ]
  },
  {
   "cell_type": "code",
   "execution_count": 2,
   "metadata": {},
   "outputs": [],
   "source": [
    "def get_count_data():\n",
    "    \"\"\"\n",
    "    Read in the raw read count data, and cell type identities as available on NCBI GEO\n",
    "    \"\"\"\n",
    "    \n",
    "    # read in count data\n",
    "    fname = 'Matlab/GSE99888_gene_expression.tab'\n",
    "    df = pd.read_csv(fname, sep='\\t', header=0, index_col=0)\n",
    "    \n",
    "    # read in cell type labels\n",
    "    fname = 'References/Harris References/Cell Identities.tsv'\n",
    "    df_labels = pd.read_csv(fname, sep='\\t', header=0, index_col=0)\n",
    "    df_labels = df_labels.loc[df.columns,:]\n",
    "    \n",
    "    # add multi indexing\n",
    "    arrays = [df_labels.Accession, df_labels.CellType]\n",
    "    names = ('Cell', 'CellType')\n",
    "    df.columns = pd.MultiIndex.from_arrays(arrays, names=names)\n",
    "    \n",
    "    return df\n",
    "\n",
    "def get_matrix_data():\n",
    "    \"\"\"\n",
    "    Read in the raw count data, from Harris et al's nbt-SNE data\n",
    "    \"\"\"\n",
    "    fname = 'Matlab/Matlab_Counts.tsv'\n",
    "    params = {'sep':'\\t', 'header':[0,1], 'index_col':0}\n",
    "    df = pd.read_csv(fname, **params)\n",
    "    \n",
    "    return df\n",
    "\n",
    "def get_data():\n",
    "    \"\"\"\n",
    "    Read in all raw count data\n",
    "    \"\"\"\n",
    "    \n",
    "    df_count = get_count_data()\n",
    "    df_matrix = get_matrix_data()\n",
    "    \n",
    "    return df_count, df_matrix\n",
    "\n",
    "def get_pca_reduce(df_count, df_matrix):\n",
    "    \"\"\"\n",
    "    Reduce input matrices via PCA transformation\n",
    "    \"\"\"\n",
    "    datalist_count = df_count.values.T\n",
    "    datalist_matrix = df_matrix.values.T\n",
    "    pca = PCA(n_components=100)\n",
    "    pca.fit(datalist_count)\n",
    "    \n",
    "    datalist_count = pca.transform(datalist_count)\n",
    "    datalist_matrix = pca.transform(datalist_matrix)\n",
    "    \n",
    "    df_count = pd.DataFrame(datalist_count, index=df_count.columns)\n",
    "    df_matrix = pd.DataFrame(datalist_matrix, index=df_matrix.columns)\n",
    "    \n",
    "    return df_count, df_matrix\n",
    "\n",
    "def get_dist_matrix(df_count, df_matrix):\n",
    "    \"\"\"\n",
    "    Produce a distance matrix between cells of df_count and df_matrix\n",
    "    \"\"\"\n",
    "    df_dist = pd.DataFrame(np.NaN, index=df_count.columns, columns=df_matrix.columns)\n",
    "    df_count, df_matrix = get_pca_reduce(df_count, df_matrix)\n",
    "    \n",
    "    for index, data_index in df_count.iterrows():\n",
    "        for column, data_column in df_matrix.iterrows():\n",
    "            df_dist.loc[index, column] = np.sum(np.square(data_index.values - data_column.values))\n",
    "    \n",
    "    return df_dist\n",
    "\n",
    "def create_dist_matrix():\n",
    "    \"\"\"\n",
    "    Produce a distance matrix between cells of df_count and df_matrix\n",
    "    \"\"\"\n",
    "    df_count, df_matrix = get_data()\n",
    "    df_dist = get_dist_matrix(df_count, df_matrix)\n",
    "    \n",
    "    df_dist.to_csv('Matlab/Harris_Compare.tsv', sep='\\t')\n",
    "    \n",
    "    return\n",
    "\n",
    "def create_matching_matrix():\n",
    "    \"\"\"\n",
    "    Read in distance matrix, to create a pandas dataframe that matches NCBI cell labels\n",
    "    to nbt-SNE cell labels. Save it as Harris_Matches.tsv\n",
    "    \"\"\"\n",
    "    # read in distance matrix\n",
    "    fname = 'Matlab/Harris_Compare.tsv'\n",
    "    params = {'sep':'\\t', 'header':[0,1], 'index_col':[0,1]}\n",
    "    df_dist = pd.read_csv(fname, **params)\n",
    "    \n",
    "    # for each column find nearest match\n",
    "    df_match = df_comp.idxmin(axis=0).apply(pd.Series)\n",
    "    df_match.columns = ['Cell', 'CellType']\n",
    "    df_match['Name'] = df_match.index.get_level_values(0)\n",
    "    df_match['gSetType'] = df_match.index.get_level_values(1)\n",
    "    \n",
    "    # save data\n",
    "    df_match.to_csv('Matlab/Harris_Matches.tsv', sep='\\t', index=False)\n",
    "    \n",
    "    return\n",
    "\n",
    "def read_harris_nbtsne_data():\n",
    "    \"\"\"\n",
    "    Get Harris et al's nbt-SNE reduction data\n",
    "    \"\"\"\n",
    "    fname = 'Matlab/Harris_nbtsne.tsv'\n",
    "    params = {'sep':'\\t', 'header':0, 'index_col':[0,1], 'usecols':[0,1,2,3]}\n",
    "    df = pd.read_csv(fname, **params)\n",
    "    df.columns = ['Plot_X', 'Plot_Y']\n",
    "    \n",
    "    return df\n",
    "\n",
    "def read_match_data():\n",
    "    \"\"\"\n",
    "    Read in the Harris_Matches.tsv file produced by create_matching_matrix\n",
    "    \"\"\"\n",
    "    fname = 'Matlab/Harris_Matches.tsv'\n",
    "    params = {'sep':'\\t', 'header':0, 'index_col':2}\n",
    "    df = pd.read_csv(fname, **params)\n",
    "    \n",
    "    return df\n",
    "\n",
    "def create_nbtsne_data():\n",
    "    \"\"\"\n",
    "    Reproduce Harris et al's nbt-SNE data, with cell labels fixed\n",
    "    \"\"\"\n",
    "    # read in data\n",
    "    df_nbtsne = read_harris_nbtsne_data()\n",
    "    df_match = read_match_data()\n",
    "    df_match = df_match.loc[df_nbtsne.index.get_level_values(0),:]\n",
    "    \n",
    "    # adjust index labels\n",
    "    arrays = [df_match.Cell, df_match.gSetType]\n",
    "    names = ('Cell', 'CellType')\n",
    "    df_nbtsne.index = pd.MultiIndex.from_arrays(arrays, names=names)\n",
    "    \n",
    "    df_nbtsne.to_csv('Mapping/Embeddings/Harris_nbtSNE.tsv', sep='\\t')\n",
    "    \n",
    "    return df_nbtsne"
   ]
  },
  {
   "cell_type": "code",
   "execution_count": 3,
   "metadata": {},
   "outputs": [
    {
     "name": "stdout",
     "output_type": "stream",
     "text": [
      "CPU times: user 44 s, sys: 1.54 s, total: 45.5 s\n",
      "Wall time: 46.1 s\n"
     ]
    }
   ],
   "source": [
    "%%time\n",
    "\n",
    "create_dist_matrix()"
   ]
  },
  {
   "cell_type": "code",
   "execution_count": 4,
   "metadata": {},
   "outputs": [
    {
     "name": "stdout",
     "output_type": "stream",
     "text": [
      "CPU times: user 2h 35min 57s, sys: 2.1 s, total: 2h 35min 59s\n",
      "Wall time: 2h 35min 20s\n"
     ]
    }
   ],
   "source": [
    "%%time\n",
    "\n",
    "create_matching_matrix()"
   ]
  },
  {
   "cell_type": "code",
   "execution_count": null,
   "metadata": {},
   "outputs": [],
   "source": [
    "%%time\n",
    "\n",
    "create_nbtsne_data()"
   ]
  }
 ],
 "metadata": {
  "kernelspec": {
   "display_name": "Python 3",
   "language": "python",
   "name": "python3"
  },
  "language_info": {
   "codemirror_mode": {
    "name": "ipython",
    "version": 3
   },
   "file_extension": ".py",
   "mimetype": "text/x-python",
   "name": "python",
   "nbconvert_exporter": "python",
   "pygments_lexer": "ipython3",
   "version": "3.6.7"
  }
 },
 "nbformat": 4,
 "nbformat_minor": 2
}
