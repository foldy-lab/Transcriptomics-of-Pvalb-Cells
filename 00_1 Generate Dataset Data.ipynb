{
 "cells": [
  {
   "cell_type": "markdown",
   "metadata": {},
   "source": [
    "# Import Stuff"
   ]
  },
  {
   "cell_type": "code",
   "execution_count": 1,
   "metadata": {},
   "outputs": [],
   "source": [
    "import sys\n",
    "\n",
    "from Modules import generate_kallisto_data\n",
    "from Modules import generate_merged_data\n",
    "from Modules import generate_alignment_statistics"
   ]
  },
  {
   "cell_type": "markdown",
   "metadata": {},
   "source": [
    "# Create Kallisto Files"
   ]
  },
  {
   "cell_type": "code",
   "execution_count": 2,
   "metadata": {},
   "outputs": [],
   "source": [
    "#generate_kallisto_data.get_kallisto_data('Lab_Pvalb', skip_types=[])\n",
    "#generate_kallisto_data.get_kallisto_data('Lin_New', skip_types=[])\n",
    "#generate_kallisto_data.get_kallisto_data('Lab_Cortex', skip_types=[])\n",
    "#generate_kallisto_data.get_kallisto_data('Lab_OLM', skip_types=['non-OLM'])\n",
    "#generate_kallisto_data.get_kallisto_data('GSE99888', skip_types=['Unknown'])\n",
    "#generate_kallisto_data.get_kallisto_data('GSE75386')\n",
    "#generate_kallisto_data.get_kallisto_data('GSE119248')\n",
    "#generate_kallisto_data.get_kallisto_data('GSE70844')\n",
    "#generate_kallisto_data.get_kallisto_data('Cadwell')\n",
    "#generate_kallisto_data.get_kallisto_data('GSE60361')\n",
    "#generate_kallisto_data.get_kallisto_data('GSE109999')"
   ]
  },
  {
   "cell_type": "markdown",
   "metadata": {},
   "source": [
    "# Get TPM Data"
   ]
  },
  {
   "cell_type": "code",
   "execution_count": 3,
   "metadata": {},
   "outputs": [],
   "source": [
    "#generate_merged_data.generate_tpm_data('Lab_Pvalb', QC=True, skip_types=['DEL', 'UC', 'Unknown', 'Cortical'])\n",
    "#generate_merged_data.generate_tpm_data('Lab_Pvalb', QC=False, skip_types=['DEL', 'Unknown'], savename='Pvalb_All')\n",
    "#generate_merged_data.generate_tpm_data('Lin_New', QC=True)\n",
    "#generate_merged_data.generate_tpm_data('Lab_Cortex', QC=True, QC_ref='Lab_Pvalb')\n",
    "#generate_merged_data.generate_tpm_data('Lab_Pvalb_Facs_02', QC=True)\n",
    "#generate_merged_data.generate_tpm_data('Lab_OLM', QC=False)\n",
    "#generate_merged_data.generate_tpm_data('GSE99888', QC=False)\n",
    "#generate_merged_data.generate_tpm_data('GSE75386')\n",
    "#generate_merged_data.generate_tpm_data('GSE119248')\n",
    "#generate_merged_data.generate_tpm_data('GSE70844')\n",
    "#generate_merged_data.generate_tpm_data('Cadwell')\n",
    "#generate_merged_data.generate_tpm_data('Lab_Gabe', level=1)\n",
    "#generate_merged_data.generate_tpm_data('GSE60361')\n",
    "#generate_merged_data.generate_tpm_data('Gauwens')\n",
    "#generate_merged_data.generate_tpm_data('GSE109999', QC=True)"
   ]
  },
  {
   "cell_type": "markdown",
   "metadata": {},
   "source": [
    "# Get Alignment Quality Statistics"
   ]
  },
  {
   "cell_type": "code",
   "execution_count": 4,
   "metadata": {},
   "outputs": [],
   "source": [
    "#generate_alignment_statistics.generate_alignment_stats('Lab_Pvalb')\n",
    "#generate_alignment_statistics.generate_alignment_stats('Lin_New')\n",
    "#generate_alignment_statistics.generate_alignment_stats('Lab_Cortex')\n",
    "#generate_alignment_statistics.generate_alignment_stats('Lab_OLM')\n",
    "#generate_alignment_statistics.generate_alignment_stats('GSE75386')\n",
    "#generate_alignment_statistics.generate_alignment_stats('GSE99888')\n",
    "#generate_alignment_statistics.generate_alignment_stats('GSE119248')\n",
    "#generate_alignment_statistics.generate_alignment_stats('GSE70844')\n",
    "#generate_alignment_statistics.generate_alignment_stats('Cadwell')\n",
    "#generate_alignment_statistics.generate_alignment_stats('GSE60361')\n",
    "#generate_alignment_statistics.generate_alignment_stats('Gauwens')\n",
    "#generate_alignment_statistics.generate_alignment_stats('GSE109999')"
   ]
  },
  {
   "cell_type": "markdown",
   "metadata": {},
   "source": [
    "# Get Loom Data"
   ]
  },
  {
   "cell_type": "code",
   "execution_count": 5,
   "metadata": {},
   "outputs": [],
   "source": [
    "params = {'age_cutoff':20, 'min_count':3, 'log':True, 'ending':'tpm', 'markers':False}\n",
    "#generate_merged_data.generate_loompy_data(['Lab_Pvalb', 'Lab_OLM'], 'Lab_Data', **params)\n",
    "#generate_merged_data.generate_loompy_data(['Lab_Pvalb'], 'Lab_Pvalb', **params)\n",
    "params['markers'] = True\n",
    "#generate_merged_data.generate_loompy_data(['Lab_Pvalb'], 'Lab_Pvalb_144', **params)\n",
    "#generate_merged_data.generate_loompy_data(['GSE99888'], 'Lab_Harris', age_cutoff=None, log=False)\n",
    "'''celltypes = ['Pvalb.C1ql1.Cpne5', 'Pvalb.C1ql1.Npy', 'Pvalb.C1ql1.Pvalb',\n",
    "             'Pvalb.Tac1.Akr1c18', 'Pvalb.Tac1.Nr4a2', 'Pvalb.Tac1.Sst',\n",
    "             'Pvalb.Tac1.Syt2', 'Sst.Erbb4.Crh', 'Sst.Erbb4.Rgs10',\n",
    "             'Sst.Erbb4.Th']\n",
    "#generate_merged_data.generate_loompy_data(['GSE99888'], 'Lab_Harris_trim', age_cutoff=None, log=False, celltypes=celltypes, markers=False)\n",
    "#generate_merged_data.generate_loompy_data(['GSE99888'], 'Lab_Harris_trim_log', age_cutoff=None, log=True, celltypes=celltypes, markers=False)\n",
    "\n",
    "celltypes = ['Pvalb.C1ql1.Cpne5', 'Pvalb.C1ql1.Npy', 'Pvalb.C1ql1.Pvalb',\n",
    "             'Pvalb.Tac1.Akr1c18', 'Pvalb.Tac1.Nr4a2', 'Pvalb.Tac1.Sst',\n",
    "             'Pvalb.Tac1.Syt2']\n",
    "generate_merged_data.generate_loompy_data(['GSE99888'], 'Lab_Harris_Pvalb', age_cutoff=None, log=True, celltypes=celltypes, markers=False)\n",
    "\n",
    "celltypes = ['Pvalb.C1ql1.Cpne5', 'Pvalb.C1ql1.Npy', 'Pvalb.C1ql1.Pvalb']\n",
    "generate_merged_data.generate_loompy_data(['GSE99888'], 'Lab_Harris_C1ql1', age_cutoff=None, log=True, celltypes=celltypes, markers=False)\n",
    "\n",
    "celltypes = ['Pvalb.Tac1.Akr1c18', 'Pvalb.Tac1.Nr4a2', 'Pvalb.Tac1.Sst',\n",
    "             'Pvalb.Tac1.Syt2', 'Sst.Erbb4.Crh', 'Sst.Erbb4.Rgs10',\n",
    "             'Sst.Erbb4.Th']\n",
    "generate_merged_data.generate_loompy_data(['GSE99888'], 'Lab_Harris_Tac1Erbb4', age_cutoff=None, log=True, celltypes=celltypes, markers=False)\n",
    "\n",
    "celltypes = ['Pvalb.Tac1.Akr1c18', 'Pvalb.Tac1.Nr4a2', 'Pvalb.Tac1.Sst',\n",
    "             'Pvalb.Tac1.Syt2']\n",
    "generate_merged_data.generate_loompy_data(['GSE99888'], 'Lab_Harris_Tac1', age_cutoff=None, log=True, celltypes=celltypes, markers=False)'''\n",
    "\n",
    "pass"
   ]
  },
  {
   "cell_type": "code",
   "execution_count": null,
   "metadata": {},
   "outputs": [],
   "source": []
  }
 ],
 "metadata": {
  "kernelspec": {
   "display_name": "Python 3",
   "language": "python",
   "name": "python3"
  },
  "language_info": {
   "codemirror_mode": {
    "name": "ipython",
    "version": 3
   },
   "file_extension": ".py",
   "mimetype": "text/x-python",
   "name": "python",
   "nbconvert_exporter": "python",
   "pygments_lexer": "ipython3",
   "version": "3.6.7"
  }
 },
 "nbformat": 4,
 "nbformat_minor": 2
}
