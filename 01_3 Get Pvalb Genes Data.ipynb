{
 "cells": [
  {
   "cell_type": "code",
   "execution_count": 1,
   "metadata": {},
   "outputs": [],
   "source": [
    "import sys\n",
    "import numpy as np\n",
    "import pandas as pd\n",
    "import matplotlib.pyplot as plt\n",
    "from sklearn.decomposition import PCA\n",
    "from sklearn.feature_selection import chi2, f_classif, mutual_info_classif, SelectKBest\n",
    "\n",
    "from Modules import rnaseqTools"
   ]
  },
  {
   "cell_type": "code",
   "execution_count": 2,
   "metadata": {},
   "outputs": [],
   "source": [
    "def read_tpm_data(dataset, age_cutoff = None):\n",
    "    params = {'sep':'\\t', 'header':0, 'index_col':0}\n",
    "    fname = 'Datasets/%s-tpm.tsv' % dataset\n",
    "    df = pd.read_csv(fname, **params)\n",
    "    \n",
    "    fname = 'Datasets/%s-labels.tsv' % dataset\n",
    "    df_labels = pd.read_csv(fname, **params)\n",
    "    \n",
    "    if age_cutoff != None:\n",
    "        df_labels = df_labels.loc[df_labels.Age > age_cutoff,:]\n",
    "        df = df.loc[:,df_labels.index]\n",
    "    \n",
    "    arrays = [df_labels.index, df_labels.CellType]\n",
    "    names = ('Cell', 'CellType')\n",
    "    df.columns = pd.MultiIndex.from_arrays(arrays, names=names)\n",
    "    \n",
    "    df = df\n",
    "    \n",
    "    return df\n",
    "\n",
    "def get_marker_genes():\n",
    "    fname = 'Mapping/MarkerGenes/Harris_Genes.txt'\n",
    "    with open(fname) as f:\n",
    "        genes = [line.split()[0] for line in f]\n",
    "        \n",
    "    return genes\n",
    "\n",
    "def get_lab_data():\n",
    "    df_lin = read_tpm_data('Lab_Pvalb')\n",
    "    df_olm = read_tpm_data('Lab_OLM')\n",
    "    \n",
    "    df_olm = df_olm.loc[:,df_olm.columns.get_level_values('CellType')=='SST-OLM']\n",
    "    fname = 'Datasets/Lab_Pvalb-labels.tsv'\n",
    "    kwargs = {'sep':'\\t', 'header':0, 'index_col':0}\n",
    "    df_labels = pd.read_csv(fname, **kwargs)\n",
    "    df_labels = df_labels.loc[df_labels.Age>20]\n",
    "    df_lin = df_lin.loc[:,df_lin.columns.get_level_values('Cell').isin(df_labels.index)]\n",
    "    \n",
    "    df_lab = pd.concat((df_lin, df_olm), axis=1)\n",
    "    \n",
    "    return df_lin, df_lab\n",
    "\n",
    "def read_in_data():\n",
    "    df_tpm = read_tpm_data('GSE99888')\n",
    "    celltypes = df_tpm.columns.get_level_values('CellType')\n",
    "    is_pvalb = celltypes.str.startswith('Pvalb')\n",
    "    is_sst = celltypes.str.startswith('Sst.Erbb4')\n",
    "    keep = np.logical_or(is_pvalb, is_sst)\n",
    "    df_sub = df_tpm.loc[:,keep]\n",
    "    markers = get_marker_genes()\n",
    "    \n",
    "    marker_inds = df_tpm.index.isin(markers)\n",
    "    df_marker = df_sub.loc[marker_inds,:]\n",
    "    rates = (df_sub.values>0).mean(axis=1)\n",
    "    df_tpm = df_tpm.loc[np.logical_and(rates>.04, rates<.96),:]\n",
    "    df_sub = df_sub.loc[np.logical_and(rates>.04, rates<.96),:]\n",
    "    \n",
    "    df_lin, df_lab = get_lab_data()\n",
    "    \n",
    "    df_marker = np.log2(1+df_marker)\n",
    "    df_tpm = np.log2(1+df_tpm)\n",
    "    df_sub = np.log2(1+df_sub)\n",
    "    df_lin = np.log2(1+df_lin)\n",
    "    df_lab = np.log2(1+df_lab)\n",
    "    \n",
    "    return df_marker, df_tpm, df_sub, df_lin, df_lab\n",
    "\n",
    "# Computing the matrix of correlations\n",
    "def corr2(A,B):\n",
    "    A = A - A.mean(axis=1, keepdims=True)\n",
    "    B = B - B.mean(axis=1, keepdims=True)\n",
    "    ssA = (A**2).sum(axis=1, keepdims=True)\n",
    "    ssB = (B**2).sum(axis=1, keepdims=True)\n",
    "    C = np.dot(A, B.T) / np.sqrt(np.dot(ssA,ssB.T))\n",
    "    return C\n",
    "\n",
    "def get_correlation_matrix():\n",
    "    df_marker, df_tpm = read_in_data()\n",
    "    data_corr = corr2(df_marker.values, df_tpm.values)\n",
    "    df_corr = pd.DataFrame(data_corr, index=df_marker.index, columns = df_tpm.index)\n",
    "    \n",
    "    return df_corr\n",
    "\n",
    "def save_correlation_genes(df_marker, df_tpm, n=1000):\n",
    "    \n",
    "    # get correlation scores\n",
    "    data_corr = corr2(df_marker.values, df_tpm.values)\n",
    "    df_corr = pd.DataFrame(data_corr, index=df_marker.index, columns = df_tpm.index)\n",
    "    df_qual = np.abs(df_corr).max(axis=0)\n",
    "        \n",
    "    # get top genes\n",
    "    genes = df_qual.nlargest(n).index.tolist()\n",
    "\n",
    "    with open('Mapping/MarkerGenes/Pvalb_Correlation.txt', 'w') as w:\n",
    "        w.write('\\n'.join(genes))\n",
    "        \n",
    "    return\n",
    "\n",
    "def get_feature_selection_genes(df, method, title, n=1000):\n",
    "    # initialize variables\n",
    "    rates = (df.values>0).mean(axis=1)\n",
    "    df = df.loc[np.logical_and(rates>.20, rates<.80)]\n",
    "    if method != 'Chi2':\n",
    "        X = (df.values>0).astype(int).T\n",
    "    else:\n",
    "        X = df.values.T\n",
    "    celltypes = df.columns.get_level_values('CellType')\n",
    "    Y = celltypes.str.startswith('Pvalb.C1ql1')\n",
    "        \n",
    "    # get genes\n",
    "    select = SelectKBest(method, k=n)\n",
    "    select.fit(X, Y)\n",
    "    genes = df.index[select.get_support()].tolist()\n",
    "    \n",
    "    with open('Mapping/MarkerGenes/Pvalb_%s.txt' % title, 'w') as w:\n",
    "        w.write('\\n'.join(genes))\n",
    "        \n",
    "    return\n",
    "\n",
    "def get_kobak_genes(df_tpm, n=3000, threshold=32, title='Pvalb_Kobak', atleast=10):\n",
    "    # initialize variables\n",
    "    X = np.power(2,df_tpm.values.T)-1\n",
    "    importantGenes_all = rnaseqTools.geneSelection(X, n=n, threshold=threshold, plot=False, atleast=atleast)\n",
    "    \n",
    "    # get top genes\n",
    "    genes = df_tpm.loc[importantGenes_all,:].index.tolist()\n",
    "    \n",
    "    with open('Mapping/MarkerGenes/%s.txt' % title, 'w') as w:\n",
    "        w.write('\\n'.join(genes))\n",
    "    \n",
    "    return\n",
    "\n",
    "def generate_reduced_data(df_tpm, title):\n",
    "    with open('Mapping/MarkerGenes/%s.txt' % title) as f:\n",
    "        genes = [line.split()[0] for line in f]\n",
    "    \n",
    "    df_reduced = df_tpm.loc[df_tpm.index.isin(genes),:].T\n",
    "    \n",
    "    pca = PCA(n_components=50)\n",
    "    datalist = pca.fit_transform(df_reduced.values)\n",
    "    \n",
    "    df_pca = pd.DataFrame(datalist, index=df_reduced.index, columns=np.arange(datalist.shape[1])+50)\n",
    "    \n",
    "    df_pca.to_csv('Mapping/Datasets/Harris_Subset_%s.txt' % title, sep='\\t')\n",
    "    \n",
    "    return"
   ]
  },
  {
   "cell_type": "code",
   "execution_count": 3,
   "metadata": {},
   "outputs": [
    {
     "name": "stdout",
     "output_type": "stream",
     "text": [
      "CPU times: user 30 s, sys: 1.04 s, total: 31.1 s\n",
      "Wall time: 31.1 s\n"
     ]
    }
   ],
   "source": [
    "%%time \n",
    "df_marker, df_tpm, df_sub, df_lin, df_lab = read_in_data()"
   ]
  },
  {
   "cell_type": "code",
   "execution_count": 4,
   "metadata": {},
   "outputs": [
    {
     "name": "stdout",
     "output_type": "stream",
     "text": [
      "CPU times: user 32.5 s, sys: 3.54 s, total: 36.1 s\n",
      "Wall time: 29.7 s\n"
     ]
    }
   ],
   "source": [
    "%%time\n",
    "\n",
    "# initialize variables\n",
    "number = 150\n",
    "methods = f_classif, chi2, mutual_info_classif\n",
    "titles = ['F_Classif', 'Chi2', 'Mutual_Information']\n",
    "\n",
    "# generate key genes\n",
    "save_correlation_genes(df_marker, df_sub, n=number)\n",
    "generate_reduced_data(df_tpm, 'Pvalb_Correlation')\n",
    "for method, title in zip(methods, titles):\n",
    "    get_feature_selection_genes(df_sub, method, title, n=number)\n",
    "    generate_reduced_data(df_tpm, 'Pvalb_%s' % title)"
   ]
  },
  {
   "cell_type": "code",
   "execution_count": 5,
   "metadata": {},
   "outputs": [
    {
     "name": "stdout",
     "output_type": "stream",
     "text": [
      "CPU times: user 1.3 s, sys: 843 ms, total: 2.15 s\n",
      "Wall time: 769 ms\n"
     ]
    }
   ],
   "source": [
    "%%time\n",
    "\n",
    "get_kobak_genes(df_sub, n=150)\n",
    "generate_reduced_data(df_tpm, 'Pvalb_Kobak')"
   ]
  },
  {
   "cell_type": "code",
   "execution_count": 6,
   "metadata": {},
   "outputs": [
    {
     "name": "stdout",
     "output_type": "stream",
     "text": [
      "CPU times: user 1.21 s, sys: 738 ms, total: 1.95 s\n",
      "Wall time: 606 ms\n"
     ]
    }
   ],
   "source": [
    "%%time\n",
    "\n",
    "get_kobak_genes(df_lin, n=150, title='Pvalb_Kobak_Lin', atleast=10)\n",
    "get_kobak_genes(df_lab, n=150, title='Pvalb_Kobak_Lab', atleast=10)\n",
    "generate_reduced_data(df_tpm, 'Pvalb_Kobak_Lin')"
   ]
  },
  {
   "cell_type": "code",
   "execution_count": null,
   "metadata": {},
   "outputs": [],
   "source": []
  }
 ],
 "metadata": {
  "kernelspec": {
   "display_name": "Python 3",
   "language": "python",
   "name": "python3"
  },
  "language_info": {
   "codemirror_mode": {
    "name": "ipython",
    "version": 3
   },
   "file_extension": ".py",
   "mimetype": "text/x-python",
   "name": "python",
   "nbconvert_exporter": "python",
   "pygments_lexer": "ipython3",
   "version": "3.6.7"
  }
 },
 "nbformat": 4,
 "nbformat_minor": 2
}
