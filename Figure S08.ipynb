{
 "cells": [
  {
   "cell_type": "code",
   "execution_count": 1,
   "metadata": {},
   "outputs": [],
   "source": [
    "import numpy as np\n",
    "import pandas as pd\n",
    "import matplotlib as mpl\n",
    "import matplotlib.pyplot as plt\n",
    "from scipy.stats import mannwhitneyu\n",
    "from statsmodels.stats import multitest\n",
    "from matplotlib.backends.backend_pdf import PdfPages\n",
    "from scipy.cluster.hierarchy import dendrogram, linkage\n",
    "from sklearn.decomposition import PCA\n",
    "import statsmodels.api as sm\n",
    "lowess = sm.nonparametric.lowess\n",
    "\n",
    "from Modules import plot_ax_violin\n",
    "from Modules import read_data\n",
    "from Modules import sholl_analysis\n",
    "\n",
    "mpl.rcParams['pdf.fonttype'] = 42\n",
    "mpl.rcParams['ps.fonttype'] = 42\n",
    "mpl.rcParams['font.family'] = 'Arial'\n",
    "plt.rcParams['axes.linewidth'] = 0.5\n",
    "plt.rcParams[\"xtick.major.size\"] = 2\n",
    "plt.rcParams[\"ytick.major.size\"] = 2\n",
    "plt.rcParams['xtick.major.width'] = .5\n",
    "plt.rcParams['ytick.major.width'] = .5"
   ]
  },
  {
   "cell_type": "code",
   "execution_count": 2,
   "metadata": {},
   "outputs": [],
   "source": [
    "def get_ephys_data(ephys_types = ['AP peak amplitude (mV)', 'AP halfwidth (ms)', 'Attenuation'],\n",
    "                 ephys_names = ['AP amplitude (mV)', 'AP halfwidth (ms)', 'Attenuation']\n",
    "                ):\n",
    "    # keep only vBC cells\n",
    "    df_ephys = plot_ax_violin.read_ephys_data('Lab_Pvalb')\n",
    "    df_ephys.index = df_ephys.index.get_level_values(0)\n",
    "    df_ephys.index.name = 'Cell'\n",
    "    df_labels = read_data.read_dataset_labels('Lab_Pvalb')\n",
    "    df_labels = df_labels.loc[df_labels.index.isin(df_ephys.index)]\n",
    "    df_labels = df_labels.loc[df_labels.CellType == 'vBC'].sort_values('Age')\n",
    "    df_ephys = df_ephys.loc[df_labels.index, ephys_types].copy()\n",
    "    df_ephys.index = df_labels.Age\n",
    "    df_ephys.columns = ephys_names\n",
    "    \n",
    "    return df_ephys\n",
    "\n",
    "def get_ion_signif(df_ion):\n",
    "    df_young = df_ion.xs('<P21', level='Category', axis=1)\n",
    "    df_old = df_ion.xs('>P21', level='Category', axis=1)\n",
    "    df_stat = pd.DataFrame(np.NaN, index=df_ion.index, columns=['Score', 'Pval'])\n",
    "    for gene in df_stat.index:\n",
    "        df_stat.loc[gene] = mannwhitneyu(df_young.loc[gene], df_old.loc[gene], alternative='two-sided')\n",
    "    df_stat.Pval = df_stat.Pval\n",
    "    df_stat.sort_values('Pval', inplace=True)\n",
    "    df_stat['Padj'] = multitest.multipletests(df_stat.Pval.values, method='fdr_bh')[1]\n",
    "    \n",
    "    arrays = [['<P21'], ['>P21']]\n",
    "    names = ('Category_1', 'Category_2')\n",
    "    index = pd.MultiIndex.from_arrays(arrays, names=names)\n",
    "    df_fdr = pd.DataFrame(np.NaN, index=index, columns=df_stat.index)\n",
    "    df_fdr.iloc[0,:] = df_stat.Padj.values\n",
    "\n",
    "    return df_stat, df_fdr\n",
    "\n",
    "def plot_ephys_by_age(df_ephys, fig, top=0.90):\n",
    "    xvals = df_ephys.index.values\n",
    "    width = .187\n",
    "    height = width / 11 * 8.5 * 0.7\n",
    "    \n",
    "    #fig.text(.1, top+.01, 'a', fontsize=14, ha='left', va='top')\n",
    "    \n",
    "    color_dict = sholl_analysis.get_age_color_converter()\n",
    "    colors = df_ephys.index.map(color_dict)\n",
    "    \n",
    "    for col, val in enumerate(df_ephys.columns):\n",
    "        ax = fig.add_axes([.16 + 0.25*col, top-height, width, height])\n",
    "        ax.tick_params(size=1, labelsize=6)\n",
    "        ax.set_xlabel('Age (days)', fontsize=7)\n",
    "        ax.set_ylabel(val, fontsize=7)\n",
    "        \n",
    "        yvals = df_ephys[val].values\n",
    "        \n",
    "        xshift = xvals + (np.random.rand(xvals.size)-.5) * 1\n",
    "        yshift = yvals + (np.random.rand(yvals.size)-.5) * yvals.max() / 50\n",
    "        approx = lowess(yshift, xshift, frac=.66, is_sorted=False, return_sorted=True)\n",
    "    \n",
    "        ax.scatter(xvals, yvals, facecolor=colors, edgecolor='k', linewidth=.25, s=16)\n",
    "        ax.plot(approx[:,0], approx[:,1], color='black')\n",
    "        \n",
    "        ylow, yhigh = yvals.min(), yvals.max()\n",
    "        xlow, xhigh = xvals.min()-1, xvals.max()+1\n",
    "        ydiff = (yhigh-ylow)*.02\n",
    "        ylow = ylow-ydiff\n",
    "        yhigh = yhigh+ydiff\n",
    "        ax.axis([xlow,xhigh,ylow,yhigh])\n",
    "        \n",
    "        ax.plot([21,21], [ylow,yhigh], linewidth=1, color='gray', linestyle='dashed')\n",
    "    \n",
    "    ax = fig.add_axes([.89, top-height, 0.01, height])\n",
    "    sholl_analysis.plot_age_scale(xvals, ax, orientation='vertical')\n",
    "        \n",
    "    return"
   ]
  },
  {
   "cell_type": "code",
   "execution_count": 3,
   "metadata": {},
   "outputs": [
    {
     "name": "stdout",
     "output_type": "stream",
     "text": [
      "CPU times: user 11.8 ms, sys: 3.91 ms, total: 15.7 ms\n",
      "Wall time: 16.1 ms\n"
     ]
    }
   ],
   "source": [
    "%%time\n",
    "\n",
    "df_ephys = get_ephys_data()"
   ]
  },
  {
   "cell_type": "code",
   "execution_count": 4,
   "metadata": {},
   "outputs": [
    {
     "data": {
      "image/png": "[encoded data removed]",
      "text/plain": [
       "<Figure size 612x792 with 4 Axes>"
      ]
     },
     "metadata": {
      "needs_background": "light"
     },
     "output_type": "display_data"
    },
    {
     "name": "stdout",
     "output_type": "stream",
     "text": [
      "CPU times: user 1.19 s, sys: 683 ms, total: 1.87 s\n",
      "Wall time: 720 ms\n"
     ]
    }
   ],
   "source": [
    "%%time\n",
    "\n",
    "fig = plt.figure(figsize=(8.5,11))\n",
    "fig.suptitle('Figure S8', fontsize=14, y=.93)\n",
    "plot_ephys_by_age(df_ephys, fig, top=0.89)\n",
    "\n",
    "fig.savefig('Figures/Figure S8.pdf')\n",
    "plt.show()\n",
    "plt.close()"
   ]
  },
  {
   "cell_type": "code",
   "execution_count": null,
   "metadata": {},
   "outputs": [],
   "source": []
  }
 ],
 "metadata": {
  "kernelspec": {
   "display_name": "Python 3",
   "language": "python",
   "name": "python3"
  },
  "language_info": {
   "codemirror_mode": {
    "name": "ipython",
    "version": 3
   },
   "file_extension": ".py",
   "mimetype": "text/x-python",
   "name": "python",
   "nbconvert_exporter": "python",
   "pygments_lexer": "ipython3",
   "version": "3.6.7"
  }
 },
 "nbformat": 4,
 "nbformat_minor": 2
}
