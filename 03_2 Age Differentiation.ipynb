{
 "cells": [
  {
   "cell_type": "code",
   "execution_count": 1,
   "metadata": {},
   "outputs": [],
   "source": [
    "import numpy as np\n",
    "import pandas as pd\n",
    "\n",
    "import Modules.rnaseqTools as rnaT\n",
    "from sklearn.ensemble import RandomForestClassifier\n",
    "from sklearn.model_selection import train_test_split"
   ]
  },
  {
   "cell_type": "code",
   "execution_count": 2,
   "metadata": {},
   "outputs": [],
   "source": [
    "def read_dataset(dataset):\n",
    "    kwargs = {'sep':'\\t', 'header':0, 'index_col':0}\n",
    "    fname = 'Datasets/%s-tpm.tsv' % dataset\n",
    "    df = pd.read_csv(fname, **kwargs)\n",
    "    \n",
    "    fname = 'Datasets/%s-labels.tsv' % dataset\n",
    "    df_label = pd.read_csv(fname, **kwargs)\n",
    "    \n",
    "    arrays = [df_label.index, df_label.CellType]\n",
    "    names = ['Cell', 'CellType']\n",
    "    df.columns = pd.MultiIndex.from_arrays(arrays, names=names)\n",
    "    \n",
    "    return df.T\n",
    "\n",
    "def get_gini_genes(cutoff=.10):\n",
    "    fname = 'Gini Monte Carlo/Gene Scores.tsv'\n",
    "    df_scores = pd.read_csv(fname, sep='\\t', header=0, index_col=0)\n",
    "    df_scores = df_scores.loc[df_scores.P_Adj <= cutoff]\n",
    "    df_scores.sort_values(['Up_Down', 'Cutoff_Age'], ascending=False, inplace=True)\n",
    "    \n",
    "    return df_scores.index.tolist()\n",
    "\n",
    "def get_testing_data():\n",
    "    # read in data\n",
    "    df_lin = read_dataset('Lab_Pvalb')\n",
    "    \n",
    "    genes = get_gini_genes(cutoff=.1)\n",
    "    df_lin = np.log2(1+df_lin.loc[:,genes])\n",
    "    \n",
    "    fname = 'Datasets/Lab_Pvalb-transcriptional_labels.tsv'\n",
    "    kwargs = {'sep':'\\t', 'header':0, 'index_col':0}\n",
    "    df_labels = pd.read_csv(fname, **kwargs)\n",
    "    df_labels = df_labels.loc[df_lin.index.get_level_values('Cell')]\n",
    "    \n",
    "    df_old = df_lin.loc[np.logical_and(df_labels['Morph-PV-types']=='vBC', df_labels.Age>25).values]\n",
    "    df_young = df_lin.loc[np.logical_and(df_labels['Morph-PV-types']=='vBC', df_labels.Age<21).values]\n",
    "    df_train = pd.concat((df_old, df_young), axis=0)\n",
    "    is_old = df_train.index.isin(df_old.index)[:,np.newaxis].astype(int)\n",
    "    \n",
    "    return df_train, is_old, df_lin\n",
    "\n",
    "def equalize(df_train, is_old):\n",
    "    inds = np.arange(is_old.shape[0],dtype=int)\n",
    "    inds_0 = inds[is_old[:,0]==0]\n",
    "    inds_1 = inds[is_old[:,0]==1]\n",
    "    count_0 = inds_0.size\n",
    "    count_1 = inds_1.size\n",
    "    \n",
    "    if count_1 > count_0:\n",
    "        inds_sub_1 = np.random.choice(inds_1, size=count_0, replace=False)\n",
    "        inds = np.hstack((inds_0, inds_sub_1))\n",
    "    elif count_0 > count_1:\n",
    "        inds_sub_0 = np.random.choice(inds_0, size=count_1, replace=False)\n",
    "        inds = np.hstack((inds_sub_0, inds_1))\n",
    "        \n",
    "    df_train = df_train.iloc[inds,:]\n",
    "    is_old = is_old[inds,:]\n",
    "    \n",
    "    return df_train, is_old\n",
    "\n",
    "def run_test(df_train, is_old, df_eval, n=150):\n",
    "    df_train, is_old = equalize(df_train, is_old)\n",
    "    is_old, _, train_cells, _ = train_test_split(is_old, df_train.index, test_size=0.2, stratify=is_old[:,0])\n",
    "    df_train = df_train.loc[train_cells,:]\n",
    "    if df_train.shape[1] > n:\n",
    "        df_train = trim_data(df_train, n=n)\n",
    "    df_test = df_eval.loc[~(df_eval.index.isin(df_train.index)),df_train.columns]\n",
    "    \n",
    "    clf = RandomForestClassifier(n_estimators=100)\n",
    "    clf = clf.fit(df_train.values, is_old[:,0])\n",
    "    \n",
    "    predictions = clf.predict(df_test.values)\n",
    "    \n",
    "    return pd.Series(predictions, index=df_test.index)"
   ]
  },
  {
   "cell_type": "code",
   "execution_count": 3,
   "metadata": {},
   "outputs": [
    {
     "name": "stdout",
     "output_type": "stream",
     "text": [
      "CPU times: user 319 ms, sys: 8.18 ms, total: 327 ms\n",
      "Wall time: 327 ms\n"
     ]
    }
   ],
   "source": [
    "%%time\n",
    "\n",
    "df_train, is_old, df_lin = get_testing_data()"
   ]
  },
  {
   "cell_type": "code",
   "execution_count": 4,
   "metadata": {},
   "outputs": [
    {
     "name": "stdout",
     "output_type": "stream",
     "text": [
      "CPU times: user 2min 10s, sys: 481 ms, total: 2min 11s\n",
      "Wall time: 2min 11s\n"
     ]
    }
   ],
   "source": [
    "%%time\n",
    "\n",
    "df_predict = pd.DataFrame(np.NaN, index=df_lin.index, columns=np.arange(1000,dtype=int))\n",
    "for col in df_predict.columns:\n",
    "    df_predict[col] = run_test(df_train, is_old, df_lin, n=150)"
   ]
  },
  {
   "cell_type": "code",
   "execution_count": 5,
   "metadata": {},
   "outputs": [],
   "source": [
    "df_predict.to_csv('Datasets/Lab_Pvalb-Age-Predictions.tsv', sep='\\t')"
   ]
  },
  {
   "cell_type": "code",
   "execution_count": null,
   "metadata": {},
   "outputs": [],
   "source": []
  }
 ],
 "metadata": {
  "kernelspec": {
   "display_name": "Python 3",
   "language": "python",
   "name": "python3"
  },
  "language_info": {
   "codemirror_mode": {
    "name": "ipython",
    "version": 3
   },
   "file_extension": ".py",
   "mimetype": "text/x-python",
   "name": "python",
   "nbconvert_exporter": "python",
   "pygments_lexer": "ipython3",
   "version": "3.6.7"
  }
 },
 "nbformat": 4,
 "nbformat_minor": 2
}
