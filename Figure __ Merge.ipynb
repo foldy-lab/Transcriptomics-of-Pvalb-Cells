{
 "cells": [
  {
   "cell_type": "code",
   "execution_count": 1,
   "metadata": {},
   "outputs": [],
   "source": [
    "from PyPDF2 import PdfFileReader, PdfFileWriter"
   ]
  },
  {
   "cell_type": "code",
   "execution_count": 2,
   "metadata": {},
   "outputs": [],
   "source": [
    "def generate_page_list():\n",
    "    page_list = [('Figure 1', 0, None, 0, 0),\n",
    "                 ('Figure 2', 0, None, 0, 0),\n",
    "                 ('Figure 3', 0, None, 0, 0),\n",
    "                 ('Figure 4', 0, None, 0, 0),\n",
    "                 ('Figure 5', 0, None, 0, 0),\n",
    "                 ('Figure 6', 0, None, 0, 0),\n",
    "                 ('Figure 7', 0, None, 0, 0),\n",
    "                 ('Figure SI Cover', 0, None, 0, 0),\n",
    "                 ('Figure S1', 0, None, 0, 0),\n",
    "                 ('Figure S2', 0, None, 0, 0),\n",
    "                 ('Figure S3', 0, None, 0, 0),\n",
    "                 ('Figure S4', 0, None, 0, 0),\n",
    "                 ('Figure S5', 0, None, 0, 0),\n",
    "                 ('Figure S6', 0, None, 0, 0),\n",
    "                 ('Figure S7', 0, None, 0, 0),\n",
    "                 ('Figure S8', 0, None, 0, 0),\n",
    "                 ('Figure S9', 0, None, 0, 0),\n",
    "                 ('Figure S10', 0, None, 0, 0),\n",
    "                 ('Figure S11', 0, None, 0, 0),\n",
    "                 ('Figure S11', 1, None, 0, 0),\n",
    "                 ('Figure S11', 2, None, 0, 0),\n",
    "                 ('Figure S11', 3, None, 0, 0),\n",
    "                 ('Figure S11', 4, None, 0, 0),\n",
    "                 ('Figure S11', 5, None, 0, 0)\n",
    "                ]\n",
    "    \n",
    "    return page_list\n",
    "\n",
    "def get_paths(page_list, origin_path = 'Figures'):\n",
    "    \"\"\"\n",
    "    create a dictionary of paths to pdf files\n",
    "    \"\"\"\n",
    "    \n",
    "    figure_names = {figure for figures in page_list for figure in (figures[0], figures[2])}\n",
    "    path = '{origin}/%s.pdf'.format(origin = origin_path)\n",
    "    pdf_paths = {figure:PdfFileReader(path % figure) for figure in figure_names if figure != None}\n",
    "    \n",
    "    return pdf_paths\n",
    "    \n",
    "\n",
    "def file_page_merger(page_list, output_name, origin_path = 'Figures'):\n",
    "    \"\"\"\n",
    "    Merge a series of files together.\n",
    "    \"\"\"\n",
    "    # initialize variables\n",
    "    pdfs = get_paths(page_list, origin_path = origin_path)\n",
    "    pdf_writer = PdfFileWriter()\n",
    "    \n",
    "    # add pages\n",
    "    for target, page, legend, legend_page, legend_shift in page_list:\n",
    "        if legend == None:\n",
    "            pdf_writer.addPage(pdfs[target].getPage(page))\n",
    "        else:\n",
    "            base_pdf = pdfs[target]\n",
    "            legend_pdf = pdfs[legend]\n",
    "            page = base_pdf.getPage(page)\n",
    "            page.mergeTranslatedPage(legend_pdf.getPage(legend_page), 0, legend_shift, expand=False)\n",
    "            pdf_writer.addPage(page)\n",
    "    \n",
    "    # save file\n",
    "    output_path = 'Manuscripts/%s.pdf' % output_name\n",
    "    with open(output_path, 'wb') as fh:\n",
    "        pdf_writer.write(fh)\n",
    "    return"
   ]
  },
  {
   "cell_type": "code",
   "execution_count": 3,
   "metadata": {},
   "outputs": [
    {
     "name": "stdout",
     "output_type": "stream",
     "text": [
      "CPU times: user 386 ms, sys: 62.9 ms, total: 449 ms\n",
      "Wall time: 475 ms\n"
     ]
    }
   ],
   "source": [
    "%%time\n",
    "\n",
    "page_list = generate_page_list()\n",
    "file_page_merger(page_list, 'FiguresMerged', origin_path='Figures')"
   ]
  },
  {
   "cell_type": "code",
   "execution_count": 4,
   "metadata": {},
   "outputs": [
    {
     "name": "stdout",
     "output_type": "stream",
     "text": [
      "CPU times: user 14 µs, sys: 2 µs, total: 16 µs\n",
      "Wall time: 21.5 µs\n"
     ]
    }
   ],
   "source": [
    "%%time\n",
    "\n",
    "page_list = [('Que et al ms', i, None, 0, 0) for i in range(23)]\n",
    "page_list += [('FiguresMerged', i, None, 0, 0) for i in range(18)]\n",
    "#file_page_merger(page_list, 'Que et al manuscript', origin_path='Manuscripts')"
   ]
  },
  {
   "cell_type": "code",
   "execution_count": null,
   "metadata": {},
   "outputs": [],
   "source": []
  }
 ],
 "metadata": {
  "kernelspec": {
   "display_name": "Python 3",
   "language": "python",
   "name": "python3"
  },
  "language_info": {
   "codemirror_mode": {
    "name": "ipython",
    "version": 3
   },
   "file_extension": ".py",
   "mimetype": "text/x-python",
   "name": "python",
   "nbconvert_exporter": "python",
   "pygments_lexer": "ipython3",
   "version": "3.6.7"
  }
 },
 "nbformat": 4,
 "nbformat_minor": 2
}
