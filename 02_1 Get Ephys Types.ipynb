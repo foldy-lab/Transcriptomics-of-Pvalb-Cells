{
 "cells": [
  {
   "cell_type": "code",
   "execution_count": 1,
   "metadata": {},
   "outputs": [],
   "source": [
    "import sys\n",
    "import numpy as np\n",
    "import pandas as pd\n",
    "import matplotlib.pyplot as plt\n",
    "from sklearn.cluster import KMeans\n",
    "from sklearn.preprocessing import StandardScaler\n",
    "from sklearn.neighbors.kde import KernelDensity\n",
    "\n",
    "sys.path.append('Modules')\n",
    "\n",
    "import read_data"
   ]
  },
  {
   "cell_type": "code",
   "execution_count": 2,
   "metadata": {},
   "outputs": [],
   "source": [
    "def normalize_data(df):\n",
    "    datalist = StandardScaler().fit_transform(df.values)\n",
    "    df = pd.DataFrame(datalist, index=df.index, columns=df.columns)\n",
    "    \n",
    "    return df\n",
    "\n",
    "def get_data():\n",
    "    df_ephys = read_data.read_ephys_data(age_cutoff=20)\n",
    "    df_ephys = normalize_data(df_ephys)\n",
    "    \n",
    "    return df_ephys\n",
    "\n",
    "def get_ephys_categories():\n",
    "    df_ephys = get_data()\n",
    "    columns = ['EphysType', 'EphysType_2', 'EphysType_3', 'EphysType_4', 'EphysType_5']\n",
    "    df_labels = pd.DataFrame('', index=df_ephys.index, columns=columns)\n",
    "    \n",
    "    for num in range(2,6):\n",
    "        kmeans = KMeans(n_clusters=num, random_state=0).fit(df_ephys.values)\n",
    "        labels = ['Ephys%d' % label for label in kmeans.labels_ + 1]\n",
    "        \n",
    "        df_labels['EphysType_%d' % num] = labels\n",
    "    \n",
    "    df_labels.EphysType = df_labels.EphysType_2\n",
    "    \n",
    "    df_labels.to_csv('Mapping/LabelTypes/Lab_Pvalb-ephys.tsv', sep='\\t')\n",
    "    \n",
    "    return"
   ]
  },
  {
   "cell_type": "code",
   "execution_count": 3,
   "metadata": {},
   "outputs": [],
   "source": [
    "get_ephys_categories()"
   ]
  },
  {
   "cell_type": "code",
   "execution_count": null,
   "metadata": {},
   "outputs": [],
   "source": []
  }
 ],
 "metadata": {
  "kernelspec": {
   "display_name": "Python 3",
   "language": "python",
   "name": "python3"
  },
  "language_info": {
   "codemirror_mode": {
    "name": "ipython",
    "version": 3
   },
   "file_extension": ".py",
   "mimetype": "text/x-python",
   "name": "python",
   "nbconvert_exporter": "python",
   "pygments_lexer": "ipython3",
   "version": "3.6.7"
  }
 },
 "nbformat": 4,
 "nbformat_minor": 2
}
